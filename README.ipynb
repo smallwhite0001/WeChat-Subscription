{
 "cells": [
  {
   "cell_type": "markdown",
   "metadata": {},
   "source": [
    "# 微信个人订阅号操作指引和文章排版"
   ]
  },
  {
   "cell_type": "markdown",
   "metadata": {},
   "source": [
    "“再小的个体，也有自己的品牌。” 本手册介绍的是微信**个人订阅号**的基本操作，以及使用订阅号发文章时怎样高效排版，让文章更有表现力，或更简约，美观。适合初次注册和使用微信公众号的读者。"
   ]
  },
  {
   "cell_type": "markdown",
   "metadata": {},
   "source": [
    "## 注册订阅号"
   ]
  },
  {
   "cell_type": "markdown",
   "metadata": {},
   "source": [
    "同一身份证注册个人类型公众号数量上限为 1 个，也就是说每个人只能注册一个个人订阅号。"
   ]
  },
  {
   "cell_type": "markdown",
   "metadata": {},
   "source": [
    "注册之前要做的准备："
   ]
  },
  {
   "cell_type": "markdown",
   "metadata": {},
   "source": [
    "- 一个未被微信公众平台或开放平台注册，未被微信绑定的邮箱\n",
    "- 在用的手机号\n",
    "- 注册者身份证号\n",
    "- 绑定注册者本人银行卡的微信（需要本人微信扫码并进行人脸验证）\n",
    "- 订阅号的名称（注册后也可再修改）"
   ]
  },
  {
   "cell_type": "markdown",
   "metadata": {},
   "source": [
    "注册流程官方文档有详细介绍，就不在此详述：https://kf.qq.com/faq/120911VrYVrA151009eIrYvy.html"
   ]
  },
  {
   "cell_type": "markdown",
   "metadata": {},
   "source": [
    "## 基本功能和操作"
   ]
  },
  {
   "cell_type": "markdown",
   "metadata": {},
   "source": [
    "订阅号注册完成后，下面介绍基本的功能，例如怎样开始创作，怎样上传素材，怎样设置原创、赞赏，怎样编辑菜单等。"
   ]
  },
  {
   "cell_type": "markdown",
   "metadata": {},
   "source": [
    "### 新的创作"
   ]
  },
  {
   "cell_type": "markdown",
   "metadata": {},
   "source": [
    "新的创作包括下图中七种方式："
   ]
  },
  {
   "cell_type": "markdown",
   "metadata": {},
   "source": [
    "![](imgs/2021-11-17_20-45-13.png)"
   ]
  },
  {
   "cell_type": "markdown",
   "metadata": {},
   "source": [
    "- 图文消息：就是最常见，最常用的的发文形式，后面要说的文章排版，指的就是这种方式创作的文章\n",
    "- 选择图文：选它就是将已经编辑保存草稿箱的图文或之前已经发表的图文再发一次\n",
    "- 文字消息：只能发布 300 文字\n",
    "- 视频消息：也就是发布视频，支持本地上传视频，微信公众号视频或腾讯视频\n",
    "- 音频消息和图片消息：就是发音频和图片，都需要本地上传\n",
    "- 转载：转载有两种，白名单转载和分享页转载\n",
    "  -  白名单转载：需要某个原创公众号给你开白名单，然后你就可以转载他的原创文章，而且转载的是文章全文，你还可以对其就行修改\n",
    "  - 分享页转载：任何公众号原创文章都可转载，但只有一个分享链接，你可以附上推荐语，但阅读文章只能通过点击链接进入原公众号去阅读"
   ]
  },
  {
   "cell_type": "markdown",
   "metadata": {},
   "source": [
    "### 基本功能介绍"
   ]
  },
  {
   "cell_type": "markdown",
   "metadata": {},
   "source": [
    "这里只介绍 `内容与互动` 的基本功能，其他功能暂时也用不上。如果你坚持发文，其他功能会在后续的运营中慢慢学会。"
   ]
  },
  {
   "cell_type": "markdown",
   "metadata": {},
   "source": [
    "运营与互动功能如下图："
   ]
  },
  {
   "cell_type": "markdown",
   "metadata": {},
   "source": [
    "![](imgs/2021-11-17_21-21-44.png)"
   ]
  },
  {
   "cell_type": "markdown",
   "metadata": {},
   "source": [
    "- 草稿箱：上述新的创作的七种方式编辑的消息，都可以保存为草稿，存到草稿箱\n",
    "- 素材库：你本地上传的所以图片，音频，视频都会存到素材库，创作的时候随时可以从素材库取\n",
    "- 发表记录：就是群发消息的记录\n",
    "- 原创：原创功能可以查看自己所有原创文章被引用、分享和转载的情况等，还可以将其他公众号添加为白名单，并设置转载权限"
   ]
  },
  {
   "cell_type": "markdown",
   "metadata": {},
   "source": [
    "![](imgs/2021-11-17_21-34-27.png)"
   ]
  },
  {
   "cell_type": "markdown",
   "metadata": {},
   "source": [
    "- 消息：可以看到别人给你订阅号发的消息，**2018 年 2 月份之后，新申请的公众号，发表的文章后面已经没有读者留言功能**\n",
    "- 赞赏：赞赏功能需要发三篇以上的原创文章或原创视频才会开通。开通后设置赞赏账户，就可以在文章末尾添加赞赏，以便别人给你的文章打赏\n",
    "- 用户管理：可以管理用户，标星，加黑名单等\n",
    "- 视频弹幕：发视频消息时可以打开视频弹幕\n",
    "- 自动回复：设置用户关注时自动回复，订阅号中输入关键词自动回复等\n",
    "- 自定义菜单：定义菜单会在用户给公众号发消息的页面底部显示，方便用户点击菜单直达你设置的页面。"
   ]
  },
  {
   "cell_type": "markdown",
   "metadata": {},
   "source": [
    "![](imgs/2021-11-17_22-06-15.png)"
   ]
  },
  {
   "cell_type": "markdown",
   "metadata": {},
   "source": [
    "设置的页面有，`发送消息`，`跳转网页`，`跳转小程序`："
   ]
  },
  {
   "cell_type": "markdown",
   "metadata": {},
   "source": [
    "![](imgs/2021-11-17_22-13-31.png)"
   ]
  },
  {
   "cell_type": "markdown",
   "metadata": {},
   "source": [
    "![](imgs/2021-11-17_22-14-40.png)"
   ]
  },
  {
   "cell_type": "markdown",
   "metadata": {},
   "source": [
    "![](imgs/2021-11-17_22-15-27.png)"
   ]
  },
  {
   "cell_type": "markdown",
   "metadata": {},
   "source": [
    "- 话题标签：设置话题和页面模板。话题方便用户在相同主题内连续阅读你的文章；页面模板设置好后可以放到上述的自定义菜单中\n",
    "- 投票：你可以在此创建投票插入文章中，投票结果在此显示\n",
    "- 号内搜索：设置公众号推荐搜索词，帮助用户快捷检索号内关联内容"
   ]
  },
  {
   "cell_type": "markdown",
   "metadata": {},
   "source": [
    "## 文章排版"
   ]
  },
  {
   "cell_type": "markdown",
   "metadata": {},
   "source": [
    "微信文章只支持富文本编辑，可以直接导入 word 文档，不支持 markdown。如果要用 markdown 格式，就需要借助其他工具。"
   ]
  },
  {
   "cell_type": "markdown",
   "metadata": {},
   "source": [
    "### 编辑工具栏介绍"
   ]
  },
  {
   "cell_type": "markdown",
   "metadata": {},
   "source": [
    "编辑工具栏只介绍上面一栏，下面的字体，对齐等，与基本的 word 创作一样。"
   ]
  },
  {
   "cell_type": "markdown",
   "metadata": {},
   "source": [
    "![](imgs/2021-11-17_22-40-14.png)"
   ]
  },
  {
   "cell_type": "markdown",
   "metadata": {},
   "source": [
    "- 图片，视频，音频，就是用来在正文中插入这些多媒体信息的\n",
    "- 超链接，只能是公众号文章的链接，可以是自己的文章也可以是别人的文章，所有其他非公众号的链接都无效\n",
    "- 小程序，投票，用来插入小程序和投票\n",
    "- 模板，挺好用的功能，你可以将常用文章格式做个模板，保存，每次新创作，插入模板就可统一样式开始\n",
    "- 搜索，设置文章搜索词\n",
    "- 视频号，插入视频号动态\n",
    "- 公众号，插入公众名片"
   ]
  },
  {
   "cell_type": "markdown",
   "metadata": {},
   "source": [
    "### 排版工具使用"
   ]
  },
  {
   "cell_type": "markdown",
   "metadata": {},
   "source": [
    "如果只关注文章内容质量，而不是很在乎排版和美观，微信订阅号里的工具完全够用了，而且非常简单，就不再详述。"
   ]
  },
  {
   "cell_type": "markdown",
   "metadata": {},
   "source": [
    "下面的内容适合对排版和美观要求很高的创作者。排版工具有很多，下面介绍比较有代表性的两个："
   ]
  },
  {
   "cell_type": "markdown",
   "metadata": {},
   "source": [
    "- **壹伴排版**"
   ]
  },
  {
   "cell_type": "markdown",
   "metadata": {},
   "source": [
    "功能和素材非常丰富的微信文章排版工具，很多免费内容已经够用，收费就更强大了。"
   ]
  },
  {
   "cell_type": "markdown",
   "metadata": {},
   "source": [
    "官网下载壹伴小插件安装：https://yiban.io/ ，安装完之后回到公众号文章编辑页面，点击下图的登陆，微信扫码登录即可使用："
   ]
  },
  {
   "cell_type": "markdown",
   "metadata": {},
   "source": [
    "![](imgs/2021-11-17_23-07-36.png)"
   ]
  },
  {
   "cell_type": "markdown",
   "metadata": {},
   "source": [
    "图片，表情包，背景，动效，模板…… 应有尽有，你可以尽情美化你的文章："
   ]
  },
  {
   "cell_type": "markdown",
   "metadata": {},
   "source": [
    "![](imgs/2021-11-17_23-09-51.png)"
   ]
  },
  {
   "cell_type": "markdown",
   "metadata": {},
   "source": [
    "- **Markdown Nice 排版**"
   ]
  },
  {
   "cell_type": "markdown",
   "metadata": {},
   "source": [
    "我更喜欢这个排版方式，它支持 markdown，简约，快速生成文章排版。"
   ]
  },
  {
   "cell_type": "markdown",
   "metadata": {},
   "source": [
    "打开 Markdown Nice：https://editor.mdnice.com/ ，微信扫码登录，导入已经写好的 markdown 文本，选择一个主题，点击 `复制到公众号`："
   ]
  },
  {
   "cell_type": "markdown",
   "metadata": {},
   "source": [
    "![](imgs/2021-11-17_23-33-26.png)"
   ]
  },
  {
   "cell_type": "markdown",
   "metadata": {},
   "source": [
    "支持所有 markdown 格式，表格，公式等："
   ]
  },
  {
   "cell_type": "markdown",
   "metadata": {},
   "source": [
    "![](imgs/2021-11-17_23-38-17.png)"
   ]
  },
  {
   "cell_type": "markdown",
   "metadata": {},
   "source": [
    "复制、粘贴搞定。直接到公众号粘贴就可以了。粘贴到公众号效果如下："
   ]
  },
  {
   "cell_type": "markdown",
   "metadata": {},
   "source": [
    "![](imgs/2021-11-17_23-39-47.png)"
   ]
  },
  {
   "cell_type": "markdown",
   "metadata": {},
   "source": [
    "---"
   ]
  },
  {
   "cell_type": "markdown",
   "metadata": {},
   "source": [
    "好啦，愿你能日更内容漂亮，排版也漂亮的微信订阅号文章。"
   ]
  }
 ],
 "metadata": {
  "kernelspec": {
   "display_name": "Python 3",
   "language": "python",
   "name": "python3"
  },
  "language_info": {
   "codemirror_mode": {
    "name": "ipython",
    "version": 3
   },
   "file_extension": ".py",
   "mimetype": "text/x-python",
   "name": "python",
   "nbconvert_exporter": "python",
   "pygments_lexer": "ipython3",
   "version": "3.7.3"
  }
 },
 "nbformat": 4,
 "nbformat_minor": 2
}